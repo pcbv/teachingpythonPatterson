{
 "cells": [
  {
   "cell_type": "raw",
   "source": [
    "hello everyone, this is my first Jupyter script. I don't know how to use this yet but I will plot a sine wave using this script."
   ],
   "metadata": {
    "collapsed": false
   },
   "id": "3541d189d7ca7bb0"
  },
  {
   "cell_type": "code",
   "execution_count": null,
   "outputs": [],
   "source": [
    "import numpy as np\n",
    "import matplotlib.pyplot as plt"
   ],
   "metadata": {
    "collapsed": false
   },
   "id": "29409e99c003b57f"
  },
  {
   "cell_type": "raw",
   "source": [
    "what I just wrote were called import statements. these are used to take code from other people and use it for your own benefit. chances are, if you thought of it, someone else has done it. ALWAYS look for someone else's code before you do your own script. They usually write better than you can. "
   ],
   "metadata": {
    "collapsed": false
   },
   "id": "f9e5e1c4305caf99"
  },
  {
   "cell_type": "code",
   "execution_count": null,
   "outputs": [],
   "source": [
    "fig = plt.figure()\n",
    "sine = np.linspace()"
   ],
   "metadata": {
    "collapsed": false
   },
   "id": "ea8afd51eff6901b"
  }
 ],
 "metadata": {
  "kernelspec": {
   "display_name": "Python 3",
   "language": "python",
   "name": "python3"
  },
  "language_info": {
   "codemirror_mode": {
    "name": "ipython",
    "version": 2
   },
   "file_extension": ".py",
   "mimetype": "text/x-python",
   "name": "python",
   "nbconvert_exporter": "python",
   "pygments_lexer": "ipython2",
   "version": "2.7.6"
  }
 },
 "nbformat": 4,
 "nbformat_minor": 5
}
